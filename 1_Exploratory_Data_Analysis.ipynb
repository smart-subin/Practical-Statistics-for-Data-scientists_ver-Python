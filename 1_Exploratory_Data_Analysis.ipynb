{
  "nbformat": 4,
  "nbformat_minor": 0,
  "metadata": {
    "colab": {
      "provenance": []
    },
    "kernelspec": {
      "name": "python3",
      "display_name": "Python 3"
    },
    "language_info": {
      "name": "python"
    }
  },
  "cells": [
    {
      "cell_type": "code",
      "execution_count": 1,
      "metadata": {
        "id": "3ipz2EQu2rpP"
      },
      "outputs": [],
      "source": [
        "import pandas as pd\n",
        "import numpy as np\n",
        "import matplotlib.pyplot as plt\n",
        "import os"
      ]
    },
    {
      "cell_type": "code",
      "source": [
        "root = os.path.abspath(\"./drive/MyDrive/data-study/\")"
      ],
      "metadata": {
        "id": "VoZ9Y17S3vZ_"
      },
      "execution_count": 2,
      "outputs": []
    },
    {
      "cell_type": "code",
      "source": [
        "csv = os.path.join(root, \"state.csv\")\n",
        "data = pd.read_csv(csv)\n",
        "data[:10]"
      ],
      "metadata": {
        "colab": {
          "base_uri": "https://localhost:8080/",
          "height": 363
        },
        "id": "J_ElCzz_4F01",
        "outputId": "6b169b59-2e0c-4528-ab01-1dca5e3c8d3e"
      },
      "execution_count": 3,
      "outputs": [
        {
          "output_type": "execute_result",
          "data": {
            "text/plain": [
              "         State  Population  Murder.Rate Abbreviation\n",
              "0      Alabama     4779736          5.7           AL\n",
              "1       Alaska      710231          5.6           AK\n",
              "2      Arizona     6392017          4.7           AZ\n",
              "3     Arkansas     2915918          5.6           AR\n",
              "4   California    37253956          4.4           CA\n",
              "5     Colorado     5029196          2.8           CO\n",
              "6  Connecticut     3574097          2.4           CT\n",
              "7     Delaware      897934          5.8           DE\n",
              "8      Florida    18801310          5.8           FL\n",
              "9      Georgia     9687653          5.7           GA"
            ],
            "text/html": [
              "\n",
              "  <div id=\"df-1af5f1b5-347b-430f-94e8-7fc9de5d4914\">\n",
              "    <div class=\"colab-df-container\">\n",
              "      <div>\n",
              "<style scoped>\n",
              "    .dataframe tbody tr th:only-of-type {\n",
              "        vertical-align: middle;\n",
              "    }\n",
              "\n",
              "    .dataframe tbody tr th {\n",
              "        vertical-align: top;\n",
              "    }\n",
              "\n",
              "    .dataframe thead th {\n",
              "        text-align: right;\n",
              "    }\n",
              "</style>\n",
              "<table border=\"1\" class=\"dataframe\">\n",
              "  <thead>\n",
              "    <tr style=\"text-align: right;\">\n",
              "      <th></th>\n",
              "      <th>State</th>\n",
              "      <th>Population</th>\n",
              "      <th>Murder.Rate</th>\n",
              "      <th>Abbreviation</th>\n",
              "    </tr>\n",
              "  </thead>\n",
              "  <tbody>\n",
              "    <tr>\n",
              "      <th>0</th>\n",
              "      <td>Alabama</td>\n",
              "      <td>4779736</td>\n",
              "      <td>5.7</td>\n",
              "      <td>AL</td>\n",
              "    </tr>\n",
              "    <tr>\n",
              "      <th>1</th>\n",
              "      <td>Alaska</td>\n",
              "      <td>710231</td>\n",
              "      <td>5.6</td>\n",
              "      <td>AK</td>\n",
              "    </tr>\n",
              "    <tr>\n",
              "      <th>2</th>\n",
              "      <td>Arizona</td>\n",
              "      <td>6392017</td>\n",
              "      <td>4.7</td>\n",
              "      <td>AZ</td>\n",
              "    </tr>\n",
              "    <tr>\n",
              "      <th>3</th>\n",
              "      <td>Arkansas</td>\n",
              "      <td>2915918</td>\n",
              "      <td>5.6</td>\n",
              "      <td>AR</td>\n",
              "    </tr>\n",
              "    <tr>\n",
              "      <th>4</th>\n",
              "      <td>California</td>\n",
              "      <td>37253956</td>\n",
              "      <td>4.4</td>\n",
              "      <td>CA</td>\n",
              "    </tr>\n",
              "    <tr>\n",
              "      <th>5</th>\n",
              "      <td>Colorado</td>\n",
              "      <td>5029196</td>\n",
              "      <td>2.8</td>\n",
              "      <td>CO</td>\n",
              "    </tr>\n",
              "    <tr>\n",
              "      <th>6</th>\n",
              "      <td>Connecticut</td>\n",
              "      <td>3574097</td>\n",
              "      <td>2.4</td>\n",
              "      <td>CT</td>\n",
              "    </tr>\n",
              "    <tr>\n",
              "      <th>7</th>\n",
              "      <td>Delaware</td>\n",
              "      <td>897934</td>\n",
              "      <td>5.8</td>\n",
              "      <td>DE</td>\n",
              "    </tr>\n",
              "    <tr>\n",
              "      <th>8</th>\n",
              "      <td>Florida</td>\n",
              "      <td>18801310</td>\n",
              "      <td>5.8</td>\n",
              "      <td>FL</td>\n",
              "    </tr>\n",
              "    <tr>\n",
              "      <th>9</th>\n",
              "      <td>Georgia</td>\n",
              "      <td>9687653</td>\n",
              "      <td>5.7</td>\n",
              "      <td>GA</td>\n",
              "    </tr>\n",
              "  </tbody>\n",
              "</table>\n",
              "</div>\n",
              "      <button class=\"colab-df-convert\" onclick=\"convertToInteractive('df-1af5f1b5-347b-430f-94e8-7fc9de5d4914')\"\n",
              "              title=\"Convert this dataframe to an interactive table.\"\n",
              "              style=\"display:none;\">\n",
              "        \n",
              "  <svg xmlns=\"http://www.w3.org/2000/svg\" height=\"24px\"viewBox=\"0 0 24 24\"\n",
              "       width=\"24px\">\n",
              "    <path d=\"M0 0h24v24H0V0z\" fill=\"none\"/>\n",
              "    <path d=\"M18.56 5.44l.94 2.06.94-2.06 2.06-.94-2.06-.94-.94-2.06-.94 2.06-2.06.94zm-11 1L8.5 8.5l.94-2.06 2.06-.94-2.06-.94L8.5 2.5l-.94 2.06-2.06.94zm10 10l.94 2.06.94-2.06 2.06-.94-2.06-.94-.94-2.06-.94 2.06-2.06.94z\"/><path d=\"M17.41 7.96l-1.37-1.37c-.4-.4-.92-.59-1.43-.59-.52 0-1.04.2-1.43.59L10.3 9.45l-7.72 7.72c-.78.78-.78 2.05 0 2.83L4 21.41c.39.39.9.59 1.41.59.51 0 1.02-.2 1.41-.59l7.78-7.78 2.81-2.81c.8-.78.8-2.07 0-2.86zM5.41 20L4 18.59l7.72-7.72 1.47 1.35L5.41 20z\"/>\n",
              "  </svg>\n",
              "      </button>\n",
              "      \n",
              "  <style>\n",
              "    .colab-df-container {\n",
              "      display:flex;\n",
              "      flex-wrap:wrap;\n",
              "      gap: 12px;\n",
              "    }\n",
              "\n",
              "    .colab-df-convert {\n",
              "      background-color: #E8F0FE;\n",
              "      border: none;\n",
              "      border-radius: 50%;\n",
              "      cursor: pointer;\n",
              "      display: none;\n",
              "      fill: #1967D2;\n",
              "      height: 32px;\n",
              "      padding: 0 0 0 0;\n",
              "      width: 32px;\n",
              "    }\n",
              "\n",
              "    .colab-df-convert:hover {\n",
              "      background-color: #E2EBFA;\n",
              "      box-shadow: 0px 1px 2px rgba(60, 64, 67, 0.3), 0px 1px 3px 1px rgba(60, 64, 67, 0.15);\n",
              "      fill: #174EA6;\n",
              "    }\n",
              "\n",
              "    [theme=dark] .colab-df-convert {\n",
              "      background-color: #3B4455;\n",
              "      fill: #D2E3FC;\n",
              "    }\n",
              "\n",
              "    [theme=dark] .colab-df-convert:hover {\n",
              "      background-color: #434B5C;\n",
              "      box-shadow: 0px 1px 3px 1px rgba(0, 0, 0, 0.15);\n",
              "      filter: drop-shadow(0px 1px 2px rgba(0, 0, 0, 0.3));\n",
              "      fill: #FFFFFF;\n",
              "    }\n",
              "  </style>\n",
              "\n",
              "      <script>\n",
              "        const buttonEl =\n",
              "          document.querySelector('#df-1af5f1b5-347b-430f-94e8-7fc9de5d4914 button.colab-df-convert');\n",
              "        buttonEl.style.display =\n",
              "          google.colab.kernel.accessAllowed ? 'block' : 'none';\n",
              "\n",
              "        async function convertToInteractive(key) {\n",
              "          const element = document.querySelector('#df-1af5f1b5-347b-430f-94e8-7fc9de5d4914');\n",
              "          const dataTable =\n",
              "            await google.colab.kernel.invokeFunction('convertToInteractive',\n",
              "                                                     [key], {});\n",
              "          if (!dataTable) return;\n",
              "\n",
              "          const docLinkHtml = 'Like what you see? Visit the ' +\n",
              "            '<a target=\"_blank\" href=https://colab.research.google.com/notebooks/data_table.ipynb>data table notebook</a>'\n",
              "            + ' to learn more about interactive tables.';\n",
              "          element.innerHTML = '';\n",
              "          dataTable['output_type'] = 'display_data';\n",
              "          await google.colab.output.renderOutput(dataTable, element);\n",
              "          const docLink = document.createElement('div');\n",
              "          docLink.innerHTML = docLinkHtml;\n",
              "          element.appendChild(docLink);\n",
              "        }\n",
              "      </script>\n",
              "    </div>\n",
              "  </div>\n",
              "  "
            ]
          },
          "metadata": {},
          "execution_count": 3
        }
      ]
    },
    {
      "cell_type": "markdown",
      "source": [
        "\n",
        "\n",
        "* **평균(mean)**\n",
        "\n",
        "  : 모든 관측값을 더해서 관측값 개수로 나눈 값\n",
        "\n",
        ">\n",
        "$$\n",
        "\\begin{align}\n",
        "\\overline{x}=\\frac{\\sum_i^n x_i}{n}\n",
        "\\end{align}\n",
        "$$\n",
        "\n",
        "* **절사평균(trimmed mean)**\n",
        "\n",
        "  : 상위·하위 일정 비율을 제외한 평균  \n",
        "  $\\rightarrow$ 자료에 극단치가 있을 경우 이를 제외할 수 있어 유용함\n",
        "\n",
        "> \n",
        "$$\n",
        "\\begin{align}\n",
        "\\overline{x}=\\frac{\\sum_{i=p+1}^{n-p} x_{(i)}}{n-2p}\n",
        "\\end{align}\n",
        "$$\n",
        "\n",
        "* **중간값(median)**\n",
        "\n",
        "  : 데이터를 일렬로 정렬했을 때, 한가운데에 위치하는 값"
      ],
      "metadata": {
        "id": "xnHiwHBQJkTj"
      }
    },
    {
      "cell_type": "code",
      "source": [
        "def mean(datas):\n",
        "  return sum(datas) / len(datas)\n",
        "\n",
        "def cut_mean(datas, trim:int=5):\n",
        "  datas = list(datas)\n",
        "  datas.sort()\n",
        "  datas = datas[trim: -1*trim]\n",
        "  return sum(datas) / len(datas)\n",
        "\n",
        "def median(datas):\n",
        "  datas = list(datas)\n",
        "  datas.sort()\n",
        "  center = len(datas) // 2\n",
        "  if len(datas) % 2 == 1:\n",
        "    return datas[center]\n",
        "  return (datas[center - 1] + datas[center]) / 2"
      ],
      "metadata": {
        "id": "cpO_BCGV7Ufk"
      },
      "execution_count": 4,
      "outputs": []
    },
    {
      "cell_type": "code",
      "source": [
        "population = data[\"Population\"]\n",
        "mean(population)"
      ],
      "metadata": {
        "colab": {
          "base_uri": "https://localhost:8080/"
        },
        "id": "IAuDFTQyyGvG",
        "outputId": "e4d9dbe1-e6d2-487b-891d-71e8a907f551"
      },
      "execution_count": 5,
      "outputs": [
        {
          "output_type": "execute_result",
          "data": {
            "text/plain": [
              "6162876.3"
            ]
          },
          "metadata": {},
          "execution_count": 5
        }
      ]
    },
    {
      "cell_type": "code",
      "source": [
        "cut_mean(population)"
      ],
      "metadata": {
        "colab": {
          "base_uri": "https://localhost:8080/"
        },
        "id": "ubwar7ukyGfe",
        "outputId": "b5042cd3-04cd-48a9-ca62-47dff2387738"
      },
      "execution_count": 6,
      "outputs": [
        {
          "output_type": "execute_result",
          "data": {
            "text/plain": [
              "4783697.125"
            ]
          },
          "metadata": {},
          "execution_count": 6
        }
      ]
    },
    {
      "cell_type": "code",
      "source": [
        "median(population)"
      ],
      "metadata": {
        "colab": {
          "base_uri": "https://localhost:8080/"
        },
        "id": "7q9vcyN2yLan",
        "outputId": "100e3591-8641-4bf0-e53a-93d0fd13faff"
      },
      "execution_count": 7,
      "outputs": [
        {
          "output_type": "execute_result",
          "data": {
            "text/plain": [
              "4436369.5"
            ]
          },
          "metadata": {},
          "execution_count": 7
        }
      ]
    },
    {
      "cell_type": "code",
      "source": [
        "def weighted_mean(datas, w):\n",
        "  return sum(datas * w) / sum(w)\n",
        "\n",
        "def cut_weighted_mean(datas, trim:int=1):\n",
        "  datas.sort(key=lambda x: x[0] * x[1])\n",
        "  return sum(list(map(lambda x: x[0] * x[1],datas[trim: -1*trim]))) / sum(list(map(lambda x: x[1],datas[trim: -1*trim])))\n",
        "\n",
        "murder_rate = data[\"Murder.Rate\"]\n",
        "population = data[\"Population\"]"
      ],
      "metadata": {
        "id": "AWGBLvpe5TwJ"
      },
      "execution_count": 8,
      "outputs": []
    },
    {
      "cell_type": "code",
      "source": [
        "weighted_mean(murder_rate, population)"
      ],
      "metadata": {
        "colab": {
          "base_uri": "https://localhost:8080/"
        },
        "id": "cqXkE6e9yOkN",
        "outputId": "1cf3508b-8007-4689-c4e0-91dc871b79a1"
      },
      "execution_count": 9,
      "outputs": [
        {
          "output_type": "execute_result",
          "data": {
            "text/plain": [
              "4.445833981123394"
            ]
          },
          "metadata": {},
          "execution_count": 9
        }
      ]
    },
    {
      "cell_type": "code",
      "source": [
        "cut_weighted_mean(data[[\"Murder.Rate\", \"Population\"]].values.tolist(), 1)"
      ],
      "metadata": {
        "colab": {
          "base_uri": "https://localhost:8080/"
        },
        "id": "ywORKMn-yOct",
        "outputId": "d3cea08d-e46a-4ddf-85bd-4cee08c8d219"
      },
      "execution_count": 10,
      "outputs": [
        {
          "output_type": "execute_result",
          "data": {
            "text/plain": [
              "4.458740807760504"
            ]
          },
          "metadata": {},
          "execution_count": 10
        }
      ]
    },
    {
      "cell_type": "markdown",
      "source": [
        "* **편차(deviation)** \n",
        "\n",
        "  : 관측값과 위치 추정값(평균) 사이의 차이 (유의어: 오차, 잔차) \n",
        "\n",
        "* **분산(variance)**\n",
        "\n",
        "  : 편차 제곱의 합을 n-1 로 나눈 값, n은 데이터 개수 (유의어: 평균제곱 오차)\n",
        "\n",
        ">\n",
        "$$\n",
        "\\begin{align}\n",
        "Var=\\frac{\\sum(x-\\overline{x})^2}{n-1}\n",
        "\\end{align}\n",
        "$$\n",
        "\n",
        "* **표준편차(standard deviation)**\n",
        "\n",
        "  : 분산의 제곱근 (유의어: 노름, 유클리드 노름)\n",
        "\n",
        "> \n",
        "$$\n",
        "\\begin{align}\n",
        "σ=\\sqrt{Var}\n",
        "\\end{align}\n",
        "$$"
      ],
      "metadata": {
        "id": "2L8Fb_gpeIn7"
      }
    },
    {
      "cell_type": "code",
      "source": [
        "from math import sqrt\n",
        "\n",
        "def dev(data):\n",
        "  return data - mean(data)\n",
        "\n",
        "def var(data):\n",
        "  return sum(dev(data) ** 2) / (len(data) - 1)\n",
        "\n",
        "def sd(data):\n",
        "  return sqrt(var(data))"
      ],
      "metadata": {
        "id": "YzcE0h66do8k"
      },
      "execution_count": 11,
      "outputs": []
    },
    {
      "cell_type": "code",
      "source": [
        "dev(data[\"Population\"])"
      ],
      "metadata": {
        "colab": {
          "base_uri": "https://localhost:8080/"
        },
        "id": "6sVVkMwXKUeb",
        "outputId": "1a0088d1-c087-4aa4-858c-7f84df39bd7f"
      },
      "execution_count": 12,
      "outputs": [
        {
          "output_type": "execute_result",
          "data": {
            "text/plain": [
              "0     -1383140.3\n",
              "1     -5452645.3\n",
              "2       229140.7\n",
              "3     -3246958.3\n",
              "4     31091079.7\n",
              "5     -1133680.3\n",
              "6     -2588779.3\n",
              "7     -5264942.3\n",
              "8     12638433.7\n",
              "9      3524776.7\n",
              "10    -4802575.3\n",
              "11    -4595294.3\n",
              "12     6667755.7\n",
              "13      320925.7\n",
              "14    -3116521.3\n",
              "15    -3309758.3\n",
              "16    -1823509.3\n",
              "17    -1629504.3\n",
              "18    -4834515.3\n",
              "19     -389324.3\n",
              "20      384752.7\n",
              "21     3720763.7\n",
              "22     -858951.3\n",
              "23    -3195579.3\n",
              "24     -173949.3\n",
              "25    -5173461.3\n",
              "26    -4336535.3\n",
              "27    -3462325.3\n",
              "28    -4846406.3\n",
              "29     2629017.7\n",
              "30    -4103697.3\n",
              "31    13215225.7\n",
              "32     3372606.7\n",
              "33    -5490285.3\n",
              "34     5373627.7\n",
              "35    -2411525.3\n",
              "36    -2331802.3\n",
              "37     6539502.7\n",
              "38    -5110309.3\n",
              "39    -1537512.3\n",
              "40    -5348696.3\n",
              "41      183228.7\n",
              "42    18982684.7\n",
              "43    -3398991.3\n",
              "44    -5537135.3\n",
              "45     1838147.7\n",
              "46      561663.7\n",
              "47    -4309882.3\n",
              "48     -475890.3\n",
              "49    -5599250.3\n",
              "Name: Population, dtype: float64"
            ]
          },
          "metadata": {},
          "execution_count": 12
        }
      ]
    },
    {
      "cell_type": "code",
      "source": [
        "var(data[\"Population\"])"
      ],
      "metadata": {
        "colab": {
          "base_uri": "https://localhost:8080/"
        },
        "id": "L9l-YyK6KUWL",
        "outputId": "62f60b4b-9724-4c6c-c31d-e91bd67a1bbe"
      },
      "execution_count": 13,
      "outputs": [
        {
          "output_type": "execute_result",
          "data": {
            "text/plain": [
              "46898327373394.445"
            ]
          },
          "metadata": {},
          "execution_count": 13
        }
      ]
    },
    {
      "cell_type": "code",
      "source": [
        "sd(data[\"Population\"])"
      ],
      "metadata": {
        "colab": {
          "base_uri": "https://localhost:8080/"
        },
        "id": "yeMCVo4hxS4m",
        "outputId": "de3d4a15-695f-4e17-f343-fb786f0d4e04"
      },
      "execution_count": 14,
      "outputs": [
        {
          "output_type": "execute_result",
          "data": {
            "text/plain": [
              "6848235.347401142"
            ]
          },
          "metadata": {},
          "execution_count": 14
        }
      ]
    },
    {
      "cell_type": "markdown",
      "source": [
        "\n",
        "\n",
        "*   범위\n",
        "*   백분위수\n",
        "*   사분위범위(IQR)\n",
        "\n"
      ],
      "metadata": {
        "id": "Uz6MHuhwkfOB"
      }
    },
    {
      "cell_type": "code",
      "source": [
        "# 방법1\n",
        "def IQR(datas):\n",
        "  datas = list(datas)\n",
        "  datas.sort()\n",
        "  center = len(datas) // 2 \n",
        "  cc = center // 2  \n",
        "  if len(datas) % 2 == 1:\n",
        "    a = datas[:center]\n",
        "    b = datas[center+1:]\n",
        "    q1 = a[cc]\n",
        "    q3 = b[cc]\n",
        "  else:\n",
        "    a = datas[:center]\n",
        "    b = datas[center:]\n",
        "    q1 = (a[cc-1] + a[cc]) / 2\n",
        "    q3 = (b[cc-1] + b[cc]) / 2\n",
        "  return q3 - q1"
      ],
      "metadata": {
        "id": "6X1cdwVIKYhT"
      },
      "execution_count": 41,
      "outputs": []
    },
    {
      "cell_type": "code",
      "source": [
        "IQR(population)"
      ],
      "metadata": {
        "colab": {
          "base_uri": "https://localhost:8080/"
        },
        "id": "5fXRmnJRuMOn",
        "outputId": "7bc73cd0-46b0-449a-f1b5-c210ee4a8ee4"
      },
      "execution_count": 42,
      "outputs": [
        {
          "output_type": "execute_result",
          "data": {
            "text/plain": [
              "4939123.0"
            ]
          },
          "metadata": {},
          "execution_count": 42
        }
      ]
    },
    {
      "cell_type": "code",
      "source": [
        "# 방법2\n",
        "def IQR(datas):\n",
        "  datas = list(datas)\n",
        "  datas.sort()\n",
        "  if len(datas) % 2 == 1:\n",
        "    q1 = datas[int(len(datas) * 1/4)]\n",
        "    q3 = datas[int(len(datas) * 3/4)]\n",
        "  else:\n",
        "    q1 = (datas[int(len(datas) * 1/4)] + datas[int(len(datas) * 1/4) - 1]) / 2\n",
        "    q3 = (datas[int(len(datas) * 3/4)] + datas[int(len(datas) * 3/4) - 1]) / 2\n",
        "  return q3 - q1"
      ],
      "metadata": {
        "id": "JeF2USFYn8mI"
      },
      "execution_count": 67,
      "outputs": []
    },
    {
      "cell_type": "markdown",
      "source": [
        "*   **평균절대편차(AAD/MAD)**\n",
        "\n",
        "    : 편차의 절댓값의 평균\n",
        "\n",
        ">\n",
        "$$\n",
        "\\begin{align}\n",
        "\\frac{\\sum_{i=1}^n|x_i-\\overline{x}|}{n}\n",
        "\\end{align}\n",
        "$$\n",
        "\n",
        "\n",
        "*   **중위절대편차(MAD)**\n",
        "    \n",
        "    : 평균절대편차와 유사하지만 평균 대신 중앙값을 쓴다는 차이가 있다.\n",
        "\n",
        ">\n",
        "$$\n",
        "\\begin{align}\n",
        "\\frac{\\sum_{i=1}^n|x_i-m|}{n}\n",
        "\\end{align}\n",
        "$$\n"
      ],
      "metadata": {
        "id": "yPr23d8oiIxA"
      }
    },
    {
      "cell_type": "code",
      "source": [
        "def mad(data):\n",
        "  return sum(abs(data - median(data))) / len(data)"
      ],
      "metadata": {
        "id": "4utAPeL0EyCp"
      },
      "execution_count": 29,
      "outputs": []
    },
    {
      "cell_type": "code",
      "source": [
        "mad(data[\"Population\"])"
      ],
      "metadata": {
        "colab": {
          "base_uri": "https://localhost:8080/"
        },
        "id": "aLZAD-ZWLJZw",
        "outputId": "57e63498-4695-4c89-a98d-979dd10032e3"
      },
      "execution_count": 30,
      "outputs": [
        {
          "output_type": "execute_result",
          "data": {
            "text/plain": [
              "4147655.26"
            ]
          },
          "metadata": {},
          "execution_count": 30
        }
      ]
    },
    {
      "cell_type": "code",
      "source": [],
      "metadata": {
        "id": "z8P1IQThqxrZ"
      },
      "execution_count": 69,
      "outputs": []
    }
  ]
}